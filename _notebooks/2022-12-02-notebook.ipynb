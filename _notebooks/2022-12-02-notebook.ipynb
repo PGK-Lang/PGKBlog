{
 "cells": [
  {
   "cell_type": "markdown",
   "metadata": {},
   "source": [
    "# hello world\n",
    "> Hello world\n",
    "- permalink: /hello"
   ]
  },
  {
   "cell_type": "markdown",
   "metadata": {},
   "source": [
<<<<<<< HEAD:_notebooks/2022-12-02-notebook.ipynb
    "print(\"python\")"
=======
    "Iterative statements are also called loops, and they repeat themselves over and over until the condition for stopping is met.\n",
    "    - In College Board's Pseudocode, the first is a REPEAT n TIMES loop, where the n represents some number\n",
    "\n",
    "![Alt text](../images/-lv2Xc0E5Go2A.png)\n",
    "\n",
    "    - The second type of loop is a REPEAT UNTIL (condition) loop, where the loop will continue to run until a condition is met.\n",
    "\n",
    "![Alt text](../images/-ksXJia3Km0ef.png)\n",
    "\n"
>>>>>>> 0da636f (pls work):_notebooks/2022-11-29-Section-Ten.ipynb
   ]
  },
  {
   "cell_type": "markdown",
   "metadata": {},
   "source": [
    "# Practice Problem\n",
    "\n",
    "How Many Times will the loop print \"Uh Oh\"?\n",
    "\n",
    "Banana's = 10\n",
    "while Banana's > 0:\n",
    "\tprint (\"Uh Oh!\")\n",
    "\tBanana's = Banana's - 1\n",
    "\n",
    "- It will print Uh Oh a total of 10 times!"
   ]
  },
  {
   "cell_type": "markdown",
   "metadata": {},
   "source": []
  }
 ],
 "metadata": {
  "kernelspec": {
   "display_name": "Python 3.10.7 64-bit",
   "language": "python",
   "name": "python3"
  },
  "language_info": {
   "name": "python",
   "version": "3.10.7"
  },
  "orig_nbformat": 4,
  "vscode": {
   "interpreter": {
    "hash": "b0fa6594d8f4cbf19f97940f81e996739fb7646882a419484c72d19e05852a7e"
   }
  }
 },
 "nbformat": 4,
 "nbformat_minor": 2
}
