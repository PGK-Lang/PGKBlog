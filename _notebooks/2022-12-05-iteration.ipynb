{
 "cells": [
  {
   "cell_type": "markdown",
   "metadata": {},
   "source": [
    "# Section 8: Iteration\n",
    "> Iteration : Section 8\n",
    "- toc: true\n",
    "- comments: true\n",
    "- categories: [Hacks]"
   ]
  },
  {
   "cell_type": "markdown",
   "metadata": {},
   "source": [
    "## Big Ideas\n",
    "\n",
    "- Understanding What is Iteration\n",
    "- Using For and While Loops"
   ]
  },
  {
   "cell_type": "markdown",
   "metadata": {},
   "source": [
    "## Necessary Vocabulary\n",
    "\n",
    "- *Iteration*  - Repitition of a Process <br>\n",
    "- *`For Loop`* - FOR LOOP repeats a function for a set number of times; I is the number of times repeated <br>\n",
    "- *`While Loop`*  - The while loop is used to repeat a section of code an unknown number of times until a specific condition is met <br>\n",
    "- *Initialization* - The initialization part initializes the counter variable to a starting value. For example (var i = 0) represents an initial value of 0. <br>\n",
    "- *Condition* - Allows the computer to know whether or not to keep repeating the loop.\n",
    "- *increment/decrement* - Modifies the counter variable after each repetition."
   ]
  },
  {
   "cell_type": "markdown",
   "metadata": {},
   "source": [
    "## What is Iteration?\n",
    "\n",
    "Iterative statements are also called loops, and they repeat themselves over and over until the condition for stopping is met. \n",
    "\n",
    "In College Board's Pseudocode, the first is a REPEAT n TIMES loop, where the n represents some number.\n",
    "\n",
    "![Alt text](../images/iteration.png)"
   ]
  },
  {
   "cell_type": "markdown",
   "metadata": {},
   "source": [
    "The second type of loop is a REPEAT UNTIL (condition) loop, where the loop will continue to run until a condition is met.\n",
    "\n",
    "Conceptually, a while loop is very similar to an if conditional, except that a while is continually executed until it's no longer true and an if is only executed once.\n",
    "\n",
    "![Alt text](../images/iteration2.png)\n",
    "\n",
    "![Alt text](../images/while.webp)"
   ]
  },
  {
   "cell_type": "markdown",
   "metadata": {},
   "source": [
    "### Practice\n",
    "**Consider the Following Code Segment. What is the Counter Variable and the Condition set as?**\n",
    "\n",
    "```\n",
    "    for (var i = 10; i > 0; i--) {\n",
    "   println(i);\n",
    "}\n",
    "```\n",
    "\n",
    "\n",
    "<details closed>\n",
    "<summary>Answer!</summary>\n",
    "[Counter Variable: 10, Condition: Greater than 0]\n",
    "</details>"
   ]
  },
  {
   "cell_type": "markdown",
   "metadata": {},
   "source": [
    "### Practice\n",
    "**Consider the Following Code Segment. How Many times will print(ln) be called?**\n",
    "\n",
    "```\n",
    "   for (var i = 1; i <= 10; i++) {\n",
    "  for (var j = 1; j <= 10; j++) {\n",
    "    println(i * j);\n",
    "  }\n",
    "}\n",
    "\n",
    "```\n",
    "\n",
    "\n",
    "<details closed>\n",
    "<summary>Answer!</summary>\n",
    "[100 Times.The computer will execute the outer for loop 10 times (starting at i = 1 and ending after i = 10). Each time that it executes the outer loop, it will execute the inner for loop 10 times (starting at j = 1 and ending after j = 10). Each inner execution will call println() once.10 times 10 times 1 is 100, so the computer will call println() 100 times.]\n",
    "</details>"
   ]
  },
  {
   "cell_type": "markdown",
   "metadata": {},
   "source": [
    "### Practice\n",
    "**Consider the Following Code Segment. What is it initial value? What does the while loop check?**\n",
    "\n",
    "```\n",
    "   var numRabbits = 2;\n",
    "var numYears = 0;\n",
    "while (numRabbits <= 100) {\n",
    "    numRabbits += (numRabbits/2 * 30);\n",
    "    numYears++;\n",
    "}\n",
    "\n",
    "\n",
    "```\n",
    "\n",
    "\n",
    "<details closed>\n",
    "<summary>Answer!</summary>\n",
    "[2 Rabbits.The while loop checks that the number of rabbits is less than 100. As long as the population is less the 100, the code inside the loop continues to run.]\n",
    "</details>"
   ]
  },
  {
   "cell_type": "markdown",
   "metadata": {},
   "source": [
    "## Sources\n",
    "- AP College Board/Classrom\n",
    "- Khan Academy: APCSP"
   ]
  }
 ],
 "metadata": {
  "kernelspec": {
   "display_name": "Python 3.10.7 64-bit",
   "language": "python",
   "name": "python3"
  },
  "language_info": {
   "name": "python",
   "version": "3.10.7"
  },
  "orig_nbformat": 4,
  "vscode": {
   "interpreter": {
    "hash": "b0fa6594d8f4cbf19f97940f81e996739fb7646882a419484c72d19e05852a7e"
   }
  }
 },
 "nbformat": 4,
 "nbformat_minor": 2
}
