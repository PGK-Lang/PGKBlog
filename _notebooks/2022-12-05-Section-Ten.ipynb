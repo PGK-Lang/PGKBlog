{
 "cells": [
  {
   "cell_type": "markdown",
   "metadata": {},
   "source": [
    "# Section 10-Lists\n",
    "> Notes on Lists\n",
    "- toc: true\n",
    "- comments: true\n",
    "- permalink: /lesson/ten\n",
    "- categories: [lesson]\n",
    "- tags: [Presentation]"
   ]
  },
  {
   "cell_type": "markdown",
   "metadata": {},
   "source": [
    "# Big Ideas\n",
    "- Understanding how to edit lists by adding, inserting, and removing data\n",
    "- Using loops to iterate through lists and abstract data \n",
    "- Determine the results or side effects of iteration statements\n",
    "- Write sorting algorithms using iteration"
   ]
  },
  {
   "cell_type": "markdown",
   "metadata": {},
   "source": [
    "### Necessary Vocabulary\n",
    "\n",
    "- *Indexing* / *List Index* - The position of an element in a list, starting from 0 <br>\n",
    "- *`append`*, *`remove`*, *`pop`* - Various methods, append adds an element to the end, remove removes at an index, and pop removes the last item. <br>\n",
    "- *Elements [in a list]* - An item in a list. <br>\n",
    "- *Nesting* - Having one data type or function inside another data type or function, such as lists or loops. <br>\n",
    "- *array* - Another name for a list, depends on the language"
   ]
  },
  {
   "cell_type": "markdown",
   "metadata": {},
   "source": [
    "## Examples of List Operations\n",
    "\n",
    "Extra Resource: **Documentation**\n",
    "\n",
    "| Language | List Documentation |\n",
    "| --------- | ----------------- |\n",
    "| Python    | [link](https://docs.python.org/3/tutorial/datastructures.html) |\n",
    "| Javascript | [link](https://developer.mozilla.org/en-US/docs/Web/JavaScript/Reference/Global_Objects/Array) |"
   ]
  },
  {
   "cell_type": "markdown",
   "metadata": {},
   "source": [
    "## What are Lists?\n",
    "- Lists are a collection of data in a sequence that is an iterable\n",
    "- Each sequence is demarcated with an <mark>index</mark>, starting from 0. This is known as <mark>base 0 indexing</mark>\n",
    "- In memory, it is stored as a variable name with multiple pointers to each variable stored in a certain order\n",
    "- Lists can also be called arrays\n",
    "- Lists have methods that act upon the list and change them. This moves the pointers within RAM to change the parts of the list.\n",
    "\n",
    "**A MASSIVE NOTE: Lists methods *Mutate*, meaning they actively change the list, but they don't return anything. This means that return a None-type, which you cannot manipulate**"
   ]
  },
  {
   "cell_type": "markdown",
   "metadata": {},
   "source": [
    "### Adding Something to a List"
   ]
  },
  {
   "cell_type": "code",
   "execution_count": 10,
   "metadata": {},
   "outputs": [
    {
     "name": "stdout",
     "output_type": "stream",
     "text": [
      "Fruits before append: ['apple', 'banana', 'kiwi', 'pomegranate']\n",
      "Fruits after append: ['apple', 'banana', 'kiwi', 'pomegranate', 'dragonfruit']\n"
     ]
    }
   ],
   "source": [
    "fruits = [\"apple\", \"banana\", \"kiwi\", \"pomegranate\"]\n",
    "\n",
    "print(f\"Fruits before append: {fruits}\")\n",
    "\n",
    "fruits.append(\"dragonfruit\") # ADDS TO THE END OF THE LIST\n",
    "\n",
    "print(f\"Fruits after append: {fruits}\")"
   ]
  },
  {
   "cell_type": "code",
   "execution_count": 11,
   "metadata": {},
   "outputs": [
    {
     "name": "stdout",
     "output_type": "stream",
     "text": [
      "Fruits before extend: ['apple', 'banana', 'kiwi', 'pomegranate', 'dragonfruit']\n",
      "Fruits after extend: ['apple', 'banana', 'kiwi', 'pomegranate', 'dragonfruit', 'carrot', 'cucumber', 'eggplant']\n"
     ]
    }
   ],
   "source": [
    "food = [\"apple\", \"banana\", \"kiwi\", \"pomegranate\"]\n",
    "vegetables = [\"carrot\", \"cucumber\", \"eggplant\"]\n",
    "\n",
    "print(f\"Fruits before extend: {fruits}\")\n",
    "\n",
    "fruits.extend(vegetables) # adds the vegetable list to the end of the food list \n",
    "\n",
    "print(f\"Fruits after extend: {fruits}\")"
   ]
  },
  {
   "cell_type": "code",
   "execution_count": 12,
   "metadata": {},
   "outputs": [
    {
     "name": "stdout",
     "output_type": "stream",
     "text": [
      "Fruits before insert: ['apple', 'banana', 'kiwi', 'pomegranate']\n",
      "Fruits after insert: ['apple', 'dragonfruit', 'banana', 'kiwi', 'pomegranate']\n"
     ]
    }
   ],
   "source": [
    "fruits = [\"apple\", \"banana\", \"kiwi\", \"pomegranate\"]\n",
    "\n",
    "print(f\"Fruits before insert: {fruits}\")\n",
    "\n",
    "fruits.insert(1, \"dragonfruit\")\n",
    "\n",
    "print(f\"Fruits after insert: {fruits}\")"
   ]
  },
  {
   "cell_type": "markdown",
   "metadata": {},
   "source": [
    "### Removing Items"
   ]
  },
  {
   "cell_type": "code",
   "execution_count": 13,
   "metadata": {},
   "outputs": [
    {
     "name": "stdout",
     "output_type": "stream",
     "text": [
      "Fruits before pop: ['apple', 'banana', 'kiwi', 'pomegranate']\n",
      "Fruits after pop (no parameter): ['apple', 'banana', 'kiwi']\n",
      "Fruits after pop (specifying index 0): ['banana', 'kiwi']\n"
     ]
    }
   ],
   "source": [
    "fruits = [\"apple\", \"banana\", \"kiwi\", \"pomegranate\"]\n",
    "\n",
    "print(f\"Fruits before pop: {fruits}\")\n",
    "\n",
    "fruits.pop()\n",
    "\n",
    "print(f\"Fruits after pop (no parameter): {fruits}\")\n",
    "\n",
    "fruits.pop(0)\n",
    "\n",
    "print(f\"Fruits after pop (specifying index 0): {fruits}\")"
   ]
  },
  {
   "cell_type": "code",
   "execution_count": 14,
   "metadata": {},
   "outputs": [
    {
     "name": "stdout",
     "output_type": "stream",
     "text": [
      "Fruits before remove: ['apple', 'banana', 'kiwi', 'pomegranate']\n",
      "Fruits after remove (removing apple): ['banana', 'kiwi', 'pomegranate']\n",
      "Fruits after remove (removing kiwi): ['banana', 'pomegranate']\n"
     ]
    }
   ],
   "source": [
    "fruits = [\"apple\", \"banana\", \"kiwi\", \"pomegranate\"]\n",
    "\n",
    "print(f\"Fruits before remove: {fruits}\")\n",
    "\n",
    "fruits.remove(\"apple\")\n",
    "\n",
    "print(f\"Fruits after remove (removing apple): {fruits}\")\n",
    "\n",
    "fruits.remove(\"kiwi\")\n",
    "\n",
    "print(f\"Fruits after remove (removing kiwi): {fruits}\")\n"
   ]
  },
  {
   "cell_type": "markdown",
   "metadata": {},
   "source": [
    "### Practice\n",
    "#### Question 1\n",
    "---\n",
    "**Consider the Following Code Segment**\n",
    "\n",
    "```\n",
    "{\n",
    "    lst =  [\"your\", \"a\", \"very\", \"skilled\", \"individual\"]\n",
    "    lst.append(\"Person\")\n",
    "    lst.pop()\n",
    "    lst.remove(\"your\")\n",
    "    lst.insert(0, \"you're\")\n",
    "    print(lst)\n",
    "}\n",
    "```\n",
    "\n",
    "<details closed>\n",
    "<summary>Answer!</summary>\n",
    "[\"you're\", 'a', 'very', 'skilled', 'individual']\n",
    "</details>"
   ]
  },
  {
   "cell_type": "markdown",
   "metadata": {},
   "source": [
    "#### Question 2\n",
    "---\n",
    "**In each instance, would we use a list?**\n",
    "We want to represent a sequence of children in order. <br>\n",
    "We want to represent the number of animals in a zoo. <br>\n",
    "We want to repeatedly find the derivative of a number. <br>\n",
    "We want to represent Key value pairs of schools and their quantities\n",
    "We want to represent the grades of a classroom <br>\n",
    "\n",
    "<details closed>\n",
    "<summary>Answer!</summary>\n",
    "1. Yes <br>\n",
    "2 No <br>\n",
    "3. No <br>\n",
    "4. No <br>\n",
    "5. Yes\n",
    "</details>\n"
   ]
  },
  {
   "cell_type": "markdown",
   "metadata": {},
   "source": [
    "#### Question 3\n",
    "---\n",
    "```\n",
    "{\n",
    "mgAmounts ← [50, 230, 63, 98, 80, 120, 71, 158, 41]\n",
    "bestAmounts ← []\n",
    "mgPerDay ← 360\n",
    "mgMin ← mgPerDay * 0.3\n",
    "FOR EACH mgAmount IN mgAmounts\n",
    "{\n",
    "    IF (mgAmount ≥ mgMin)\n",
    "    {\n",
    "        <MISSING CODE>\n",
    "    }\n",
    "} \n",
    "}\n",
    "```\n",
    "**What can replace <MISSING CODE> so that this program will work as expected?**\n",
    "However, there may multiple answers\n",
    "a. INSERT(bestAmounts, mgAmount)\n",
    "b. APPEND(bestAmounts, mgAmount)\n",
    "c. INSERT(bestAmounts, mgAmounts)\n",
    "d. INSERT(mgAmounts, mgAmount)\n",
    "e. APPEND(bestAmounts, mgAmounts)\n",
    "f. APPEND(mgAmounts, mgAmount)\n",
    "\n",
    "<details closed>\n",
    "<summary>Answer!</summary>\n",
    "Only b, as it is the only item that correctly uses the method and doesn't improperly extend the length.\n",
    "</details>\n"
   ]
  },
  {
   "cell_type": "markdown",
   "metadata": {},
   "source": [
    "#### Question 4\n",
    "---\n",
    "**Consider the following code segment**\n",
    "```\n",
    "{\n",
    "sevenWonders ← [\"Aurora\", \"Grand Canyon\", \"Great Barrier Reef\", \"Guanabara Bay\", \"Mount Everest\", \"Parícutin\", \"Victoria Falls\"]\n",
    "\n",
    "sevenWonders[4] ← \"Komodo\"\n",
    "sevenWonders[6] ← \"Table Mountain\"\n",
    "}\n",
    "```\n",
    "**What does `sevenWonders` store?**\n",
    "\n",
    "<details closed>\n",
    "<summary>Answer!</summary>\n",
    "\"Aurora\", \"Grand Canyon\", \"Great Barrier Reef\", \"Komodo\", \"Mount Everest\", \"Table Mountain\", \"Victoria Falls\"\n",
    "</details>"
   ]
  },
  {
   "cell_type": "markdown",
   "metadata": {},
   "source": [
    "#### Question 5\n",
    "---\n",
    "**Consider the Following Code Segment**\n",
    "\n",
    "```\n",
    "{\n",
    "    \n",
    "lst = [12,3,4,5,14,6,1,234]\n",
    "\n",
    "lst.pop()\n",
    "lst.append('x')\n",
    "lst.insert(lst[0])\n",
    "\n",
    "print(lst.pop())\n",
    "print(lst)\n",
    "\n",
    "}\n",
    "```\n",
    "*What would this display*\n",
    "<details closed>\n",
    "<summary>Answer!</summary>\n",
    ":P try and get it without checking the answer!\n",
    "</details>"
   ]
  },
  {
   "cell_type": "markdown",
   "metadata": {},
   "source": [
    "# Nested Lists"
   ]
  },
  {
   "cell_type": "markdown",
   "metadata": {},
   "source": [
    "## Uses of Nested lists\n",
    "Placing lists within lists allows you to have arrays of similar data together, and create complexity. <br>\n",
    "\n",
    "Some uses include: \n",
    "- Creating 2d Arrays \n",
    "- Storing similar, but slightly different categories (sublists)\n",
    "- Create a matrix"
   ]
  },
  {
   "cell_type": "code",
   "execution_count": 15,
   "metadata": {},
   "outputs": [
    {
     "name": "stdout",
     "output_type": "stream",
     "text": [
      "[1, 0, 1, 0, 1, 0, 0, 0]\n",
      "[0, 0, 0, 0, 1, 0, 1, 1]\n",
      "[1, 1, 0, 0, 0, 1, 1, 1]\n"
     ]
    }
   ],
   "source": [
    "# Example nested lists\n",
    "\n",
    "TwoDArray = [[1, 0, 1, 0, 1, 0, 0, 0], [0, 0, 0, 0, 1, 0, 1, 1], [1, 1, 0, 0, 0, 1, 1, 1], [0, 0, 0, 0, 1, 1, 1, 1]]\n",
    "print(TwoDArray[0]) # print first sublist\n",
    "print(TwoDArray[1]) # print second sublist\n",
    "print(TwoDArray[2]) # print third sublist\n",
    "\n",
    "# These 1s and 0s could represent anything. AMAZING DATA ABSTRACTION!"
   ]
  },
  {
   "cell_type": "markdown",
   "metadata": {},
   "source": [
    "## You can also iterate over these using multiple loops, but we'll talk about that later"
   ]
  },
  {
   "cell_type": "code",
   "execution_count": 16,
   "metadata": {},
   "outputs": [
    {
     "name": "stdout",
     "output_type": "stream",
     "text": [
      "Num 0s: 17\n",
      "Num 1s: 15\n"
     ]
    }
   ],
   "source": [
    "# Example iteration\n",
    "bin_0 = 0\n",
    "bin_1 = 0\n",
    "for array in TwoDArray:\n",
    "    for bin in array:\n",
    "        if bin == 0:\n",
    "            bin_0 += 1\n",
    "        elif bin == 1:\n",
    "            bin_1 += 1\n",
    "\n",
    "print(f\"Num 0s: {bin_0}\")\n",
    "print(f\"Num 1s: {bin_1}\")\n"
   ]
  },
  {
   "cell_type": "markdown",
   "metadata": {},
   "source": [
    "# Iterating Through a List and Sorting"
   ]
  },
  {
   "cell_type": "markdown",
   "metadata": {},
   "source": [
    "## Applying Iteration\n",
    "\n",
    "We can use `for` and `while` loops to iterate over loops! Then we can manipulate each element in the list for a certain purpose (adding, adding to another list, removing, etc.)\n",
    "<br>\n",
    "<br>\n",
    "However, recall that each list item is at an `index`, and we can't exceed the number of indices that an element has, otherwise we get a `IndexError: List out of range`"
   ]
  },
  {
   "cell_type": "markdown",
   "metadata": {},
   "source": [
    "**The two programs below are both intended to display the total number of hours from a list of durations in minutes.**\n",
    "\n",
    "Program One:\n",
    "```\n",
    "{\n",
    "totalMins ← 0\n",
    "durations ← [32, 56, 28, 27]\n",
    "FOR EACH duration IN durations\n",
    "{\n",
    "   totalMins ← totalMins + duration\n",
    "}\n",
    "totalHours ← totalMins / 60\n",
    "DISPLAY(totalHours)\n",
    "}\n",
    "```\n",
    "Program Two\n",
    "```\n",
    "{\n",
    "totalMins ← 0\n",
    "durations ← [32, 56, 28, 27]\n",
    "FOR EACH duration IN durations\n",
    "{\n",
    "   totalMins ← totalMins + duration\n",
    "   totalHours ← totalMins / 60\n",
    "}\n",
    "DISPLAY(totalHours)\n",
    "}\n",
    "```\n",
    "\n",
    "a. Program 1 displays the correct total number of hours, while Program 2 does not. <br>\n",
    "b. Program 2 displays the correct total number of hours, while Program 1 does not. <br>\n",
    "c. Both programs display the correct total number of hours, but Program 1 unnecessarily repeats arithmetic operations. <br>\n",
    "d. Both programs display the correct total number of hours, but Program 2 unnecessarily repeats arithmetic operations. <br>\n",
    "<details closed>\n",
    "<summary>Answer!</summary>\n",
    "Correct answer: d\n",
    "</details>"
   ]
  },
  {
   "cell_type": "markdown",
   "metadata": {},
   "source": [
    "**A javelin thrower is writing code to track the distance of their throws and how far they are from their target distance.**\n",
    "This is what they have so far:\n",
    "```\n",
    "{\n",
    "totalDistance ← 0\n",
    "targetDistance ← 90\n",
    "throw1 ←  85.2\n",
    "DISPLAY(targetDistance - throw1)\n",
    "totalDistance ← totalDistance + throw1\n",
    "throw2 ←  82.8\n",
    "DISPLAY(targetDistance - throw2)\n",
    "totalDistance ← totalDistance + throw2\n",
    "throw3 ←  87.3\n",
    "DISPLAY(targetDistance - throw3)\n",
    "totalDistance ← totalDistance + throw3\n",
    "avgDistance ← totalDistance / 3\n",
    "DISPLAY(avgDistance)\n",
    "```\n",
    "**A friend points out that they can reduce the complexity of their code by using the abstractions of lists and loops. The programmer decides to \"refactor\" the code, to rewrite it so that it produces the same output but is structured better.** <br>\n",
    "\n",
    "**Which of these is the best refactor of the code?** <br>\n",
    "These are all closed so you can see each without being eye-bombed.\n",
    "<br>\n",
    "<details closed>\n",
    "<summary> a </summary>\n",
    "<code>\n",
    "targetDistance ← 90 <br>\n",
    "throws ← [85.2, 82.8, 87.3]<br>\n",
    "totalDistance ← 0<br>\n",
    "FOR EACH throw IN throws<br>\n",
    "{<br>\n",
    "    DISPLAY(targetDistance - throw)<br>\n",
    "    totalDistance ← totalDistance + throw<br>\n",
    "}<br>\n",
    "avgDistance ← totalDistance / LENGTH(throws)<br>\n",
    "DISPLAY(avgDistance)<br>\n",
    "</code>\n",
    "</details>\n",
    "<br>\n",
    "<details closed>\n",
    "<summary> b </summary>\n",
    "<code>\n",
    "targetDistance ← 90<br>\n",
    "throws ← [85.2, 82.8, 87.3]<br>\n",
    "totalDistance ← 0<br>\n",
    "FOR EACH throw IN throws<br>\n",
    "{<br>\n",
    "    DISPLAY(targetDistance - throw)<br>\n",
    "    totalDistance ← totalDistance + throw<br>\n",
    "}<br>\n",
    "avgDistance ← totalDistance / 3<br>\n",
    "DISPLAY(avgDistance)<br>\n",
    "</code>\n",
    "</details>\n",
    "<br>\n",
    "<details closed>\n",
    "<summary> c </summary>\n",
    "<code>\n",
    "targetDistance ← 90<br>\n",
    "throws ← [85.2, 82.8, 87.3]<br>\n",
    "totalDistance ← 0<br>\n",
    "FOR EACH throw IN throws<br>\n",
    "{<br>\n",
    "    DISPLAY(targetDistance - throw)<br>\n",
    "    totalDistance ← totalDistance + throw <br>\n",
    "    avgDistance ← totalDistance / LENGTH(throws)<br>\n",
    "}<br>\n",
    "DISPLAY(avgDistance)<br>\n",
    "</code>\n",
    "</details>\n",
    "<br>\n",
    "<details closed>\n",
    "<summary> d </summary>\n",
    "<code>\n",
    "targetDistance ← 90<br>\n",
    "throws ← [85.2, 82.8, 87.3]<br>\n",
    "FOR EACH throw IN throws<br>\n",
    "{<br>\n",
    "    totalDistance ← 0<br>\n",
    "    DISPLAY(targetDistance - throw)<br>\n",
    "    totalDistance ← totalDistance + throw <br>\n",
    "    avgDistance ← totalDistance / LENGTH(throws)<br>\n",
    "}<br>\n",
    "DISPLAY(avgDistance)<br>\n",
    "</code>\n",
    "</details>\n",
    "<br>\n",
    "<details closed>\n",
    "<summary> e </summary>\n",
    "<code>\n",
    "targetDistance ← 90<br>\n",
    "throws ← [85.2, 82.8, 87.3]<br>\n",
    "FOR EACH throw IN throws<br>\n",
    "{<br>\n",
    "    totalDistance ← 0<br>\n",
    "    DISPLAY(targetDistance - throw)<br>\n",
    "    totalDistance ← totalDistance + throw<br>\n",
    "}<br>\n",
    "avgDistance ← totalDistance / LENGTH(throws)<br>\n",
    "DISPLAY(avgDistance)<br>\n",
    "</code>\n",
    "</details>\n",
    "<br>\n",
    "<details closed>\n",
    "<summary>Answer!</summary>\n",
    "Correct answer: a\n",
    "</details>"
   ]
  },
  {
   "cell_type": "markdown",
   "metadata": {},
   "source": [
    "**The following code snippet processes a list of strings with a loop and conditionals:**\n",
    "```\n",
    "{\n",
    "words ← [\"cab\", \"lab\", \"cable\", \"cables\", \"bales\", \"bale\"]\n",
    "wordScore ← 0\n",
    "FOR EACH word IN words {\n",
    "    IF (LEN(word) ≥ 5) {\n",
    "        wordScore ← wordScore + 3\n",
    "    } ELSE {\n",
    "        IF (LEN(word) ≥ 4) {\n",
    "            wordScore ← wordScore + 2\n",
    "        } ELSE {\n",
    "            IF (LEN(word) ≥ 3) {\n",
    "                wordScore ← wordScore + 1\n",
    "            }\n",
    "        }\n",
    "    }\n",
    "}\n",
    "DISPLAY(wordScore)\n",
    "}\n",
    "```\n",
    "**The code relies on one string procedure, LEN(string), which returns the number of characters in the string.** <br>\n",
    "**What value will this program display?**\n",
    "<br>\n",
    "<details closed>\n",
    "<summary>Answer!</summary>\n",
    "Correct answer: 13\n",
    "</details>"
   ]
  },
  {
   "cell_type": "markdown",
   "metadata": {},
   "source": [
    "# Examples\n",
    "### Sorting algorithms\n",
    "Insertion Sort:\n",
    "  - Takes in unsorted list with numerical elements and returns with numerical elements in order\n",
    "  - iterates through every element one at a time\n",
    "  - check if element before the selected element is greater than or less than the selected element and adjust accordingly\n",
    "  "
   ]
  },
  {
   "cell_type": "code",
   "execution_count": 17,
   "metadata": {},
   "outputs": [
    {
     "name": "stdout",
     "output_type": "stream",
     "text": [
      "array before sort [9, 1, 5, 6, 3, 7, 2, 8]\n",
      "array after sort [1, 2, 3, 5, 6, 7, 8, 9]\n"
     ]
    }
   ],
   "source": [
    "arr = [9,1,5,6,3,7,2,8]\n",
    "print(f\"array before sort {arr}\")\n",
    "def insertion_sort(arr):\n",
    "    for index in range(1,len(arr)): # repeats through length of the array\n",
    "        value = arr[index]\n",
    "        i = index - 1\n",
    "        while i >= 0:\n",
    "            if value < arr[i]:\n",
    "                arr[i+1] = arr[i] # shift number in slot i to the right\n",
    "                arr[i] = value # shift value left into slot i\n",
    "                i = i - 1\n",
    "            else:\n",
    "                break\n",
    "\n",
    "IS = insertion_sort(arr)\n",
    "print(f\"array after sort {arr}\")"
   ]
  },
  {
   "attachments": {
    "bubble_sort.png": {
     "image/png": "[encoded data removed]"
    }
   },
   "cell_type": "markdown",
   "metadata": {},
   "source": [
    "# [Homework](https://pgk-lang.github.io/pgk/homework)"
   ]
  },
  {
   "cell_type": "markdown",
   "metadata": {},
   "source": [
    "##### Sources\n",
    "- AP Classroom/AP Classroom Website\n",
    "- Khan Academy APCSP module\n",
    "- Coursera python courss by UMich"
   ]
  }
 ],
 "metadata": {
  "kernelspec": {
   "display_name": "Python 3.10.8 64-bit (windows store)",
   "language": "python",
   "name": "python3"
  },
  "language_info": {
   "codemirror_mode": {
    "name": "ipython",
    "version": 3
   },
   "file_extension": ".py",
   "mimetype": "text/x-python",
   "name": "python",
   "nbconvert_exporter": "python",
   "pygments_lexer": "ipython3",
   "version": "3.10.8"
  },
  "vscode": {
   "interpreter": {
    "hash": "1d2dc5dcf990aaa47f7fbd56bffb5f58fda4d3a3977db6fc2dd988cdc560c2e3"
   }
  }
 },
 "nbformat": 4,
 "nbformat_minor": 2
}
