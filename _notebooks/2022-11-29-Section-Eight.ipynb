{
 "cells": [
  {
   "cell_type": "markdown",
   "metadata": {},
   "source": [
    "# Section Ten: Lists\n",
    "> Notes on Section Ten, Lists\n",
    "- toc: true\n",
    "- comments: true\n",
    "- permalink: /lesson/ten\n",
    "- categories: [lesson]"
   ]
  },
  {
   "cell_type": "markdown",
   "metadata": {},
   "source": [
    "### Necessary Vocabulary\n",
    "\n",
    "- *Indexing* / *List Index* - The position of an element in a list, starting from 0 <br>\n",
    "- *`append`*, *`remove`*, *`pop`* - Various methods, append adds an element to the end, remove removes at an index, and pop removes the last item. <br>\n",
    "- *Elements [in a list]* - An item in a list. <br>\n",
    "- *Nesting* - Having one data type or function inside another data type or function, such as lists or loops. <br>\n",
    "- *array* - Another name for a list, depends on the language"
   ]
  },
  {
   "cell_type": "markdown",
   "metadata": {},
   "source": [
    "## Examples of List Operations\n",
    "\n",
    "Extra Resource: **Documentation**\n",
    "\n",
    "| Language | List Documentation |\n",
    "| --------- | ----------------- |\n",
    "| Python    | [link](https://docs.python.org/3/tutorial/datastructures.html) |\n",
    "| Javascript | [link](https://developer.mozilla.org/en-US/docs/Web/JavaScript/Reference/Global_Objects/Array) |"
   ]
  },
  {
   "cell_type": "markdown",
   "metadata": {},
   "source": [
    "## What are Lists?\n",
    "- Lists are a collection of data in a sequence that is an iterable\n",
    "- Each sequence is demarcated with an <mark>index</mark>, starting from 0. This is known as <mark>base 0 indexing</mark>\n",
    "- In memory, it is stored as a variable name with multiple pointers to each variable stored in a certain order\n",
    "- Lists can also be called arrays"
   ]
  },
  {
   "cell_type": "code",
   "execution_count": null,
   "metadata": {},
   "outputs": [],
   "source": []
  },
  {
   "cell_type": "markdown",
   "metadata": {},
   "source": [
    "### Adding Something to a List"
   ]
  },
  {
   "cell_type": "code",
   "execution_count": 1,
   "metadata": {},
   "outputs": [
    {
     "name": "stdout",
     "output_type": "stream",
     "text": [
      "Fruits before append: ['apple', 'banana', 'kiwi', 'pomegranate']\n",
      "Fruits after append: ['apple', 'banana', 'kiwi', 'pomegranate', 'dragonfruit']\n"
     ]
    }
   ],
   "source": [
    "fruits = [\"apple\", \"banana\", \"kiwi\", \"pomegranate\"]\n",
    "\n",
    "print(f\"Fruits before append: {fruits}\")\n",
    "\n",
    "fruits.append(\"dragonfruit\") # ADDS TO THE END OF THE LIST\n",
    "\n",
    "print(f\"Fruits after append: {fruits}\")"
   ]
  },
  {
   "cell_type": "code",
   "execution_count": 2,
   "metadata": {},
   "outputs": [
    {
     "name": "stdout",
     "output_type": "stream",
     "text": [
      "Fruits before append: ['apple', 'banana', 'kiwi', 'pomegranate', 'dragonfruit']\n",
      "Fruits after append: ['apple', 'banana', 'kiwi', 'pomegranate', 'dragonfruit', 'carrot', 'cucumber', 'eggplant']\n"
     ]
    }
   ],
   "source": [
    "food = [\"apple\", \"banana\", \"kiwi\", \"pomegranate\"]\n",
    "vegetables = [\"carrot\", \"cucumber\", \"eggplant\"]\n",
    "\n",
    "print(f\"Fruits before extend: {fruits}\")\n",
    "\n",
    "fruits.extend(vegetables) # adds the vegetable list to the end of the food list \n",
    "\n",
    "print(f\"Fruits after extend: {fruits}\")"
   ]
  },
  {
   "cell_type": "code",
   "execution_count": 3,
   "metadata": {},
   "outputs": [
    {
     "name": "stdout",
     "output_type": "stream",
     "text": [
      "Fruits before insert: ['apple', 'banana', 'kiwi', 'pomegranate']\n",
      "Fruits after insert: ['apple', 'dragonfruit', 'banana', 'kiwi', 'pomegranate']\n"
     ]
    }
   ],
   "source": [
    "fruits = [\"apple\", \"banana\", \"kiwi\", \"pomegranate\"]\n",
    "\n",
    "print(f\"Fruits before insert: {fruits}\")\n",
    "\n",
    "fruits.insert(1, \"dragonfruit\")\n",
    "\n",
    "print(f\"Fruits after insert: {fruits}\")"
   ]
  },
  {
   "cell_type": "markdown",
   "metadata": {},
   "source": [
    "### Removing Items"
   ]
  },
  {
   "cell_type": "code",
   "execution_count": 2,
   "metadata": {},
   "outputs": [
    {
     "name": "stdout",
     "output_type": "stream",
     "text": [
      "Fruits before insert: ['apple', 'banana', 'kiwi', 'pomegranate']\n",
      "Fruits after pop (no parameter): ['apple', 'banana', 'kiwi']\n",
      "Fruits after pop (specifying index 0): ['banana', 'kiwi']\n"
     ]
    }
   ],
   "source": [
    "fruits = [\"apple\", \"banana\", \"kiwi\", \"pomegranate\"]\n",
    "\n",
    "print(f\"Fruits before insert: {fruits}\")\n",
    "\n",
    "fruits.pop()\n",
    "\n",
    "print(f\"Fruits after pop (no parameter): {fruits}\")\n",
    "\n",
    "fruits.pop(0)\n",
    "\n",
    "print(f\"Fruits after pop (specifying index 0): {fruits}\")"
   ]
  },
  {
   "cell_type": "code",
   "execution_count": null,
   "metadata": {},
   "outputs": [],
   "source": [
    "fruits = [\"apple\", \"banana\", \"kiwi\", \"pomegranate\"]\n",
    "\n",
    "print(f\"Fruits before insert: {fruits}\")\n",
    "\n",
    "fruits.remove(\"apple\")\n",
    "\n",
    "print(f\"Fruits after remove (removing apple): {fruits}\")\n",
    "\n",
    "fruits.remove(\"kiwi\")\n",
    "\n",
    "print(f\"Fruits after remove (removing kiwi): {fruits}\")"
   ]
  },
  {
   "cell_type": "markdown",
   "metadata": {},
   "source": [
    "### Practice\n",
    "**Consider the Following Code Segment**\n",
    "\n",
    "```\n",
    "{\n",
    "    lst =  [\"your\", \"a\", \"very\", \"skilled\", \"individual\"]\n",
    "    lst.append(\"Person\")\n",
    "    lst.pop()\n",
    "    lst.remove(\"your\")\n",
    "    lst.insert(0, \"you're\")\n",
    "}\n",
    "```"
   ]
  }
 ],
 "metadata": {
  "kernelspec": {
   "display_name": "Python 3.10.7 64-bit",
   "language": "python",
   "name": "python3"
  },
  "language_info": {
   "codemirror_mode": {
    "name": "ipython",
    "version": 3
   },
   "file_extension": ".py",
   "mimetype": "text/x-python",
   "name": "python",
   "nbconvert_exporter": "python",
   "pygments_lexer": "ipython3",
   "version": "3.10.7"
  },
  "orig_nbformat": 4,
  "vscode": {
   "interpreter": {
    "hash": "aee8b7b246df8f9039afb4144a1f6fd8d2ca17a180786b69acc140d282b71a49"
   }
  }
 },
 "nbformat": 4,
 "nbformat_minor": 2
}
