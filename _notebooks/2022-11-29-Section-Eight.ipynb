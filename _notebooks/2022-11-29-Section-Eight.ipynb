{
 "cells": [
  {
   "cell_type": "markdown",
   "metadata": {},
   "source": [
    "# Section Ten: Lists\n",
    "> Notes on Section Ten, Lists\n",
    "- toc: true\n",
    "- comments: true\n",
    "- permalink: /lesson/ten\n",
    "- categories: [lesson]"
   ]
  },
  {
   "cell_type": "markdown",
   "metadata": {},
   "source": [
    "# Big Ideas\n",
    "- Understanding how to edit lists by adding, inserting, and removing data\n",
    "- Using loops to iterate through lists and abstract data \n",
    "- Determine the results or side effects of iteration statements\n",
    "- Write sorting algorithms using iteration"
   ]
  },
  {
   "cell_type": "markdown",
   "metadata": {},
   "source": [
    "### Necessary Vocabulary\n",
    "\n",
    "- *Indexing* / *List Index* - The position of an element in a list, starting from 0 <br>\n",
    "- *`append`*, *`remove`*, *`pop`* - Various methods, append adds an element to the end, remove removes at an index, and pop removes the last item. <br>\n",
    "- *Elements [in a list]* - An item in a list. <br>\n",
    "- *Nesting* - Having one data type or function inside another data type or function, such as lists or loops. <br>\n",
    "- *array* - Another name for a list, depends on the language"
   ]
  },
  {
   "cell_type": "markdown",
   "metadata": {},
   "source": [
    "## Examples of List Operations\n",
    "\n",
    "Extra Resource: **Documentation**\n",
    "\n",
    "| Language | List Documentation |\n",
    "| --------- | ----------------- |\n",
    "| Python    | [link](https://docs.python.org/3/tutorial/datastructures.html) |\n",
    "| Javascript | [link](https://developer.mozilla.org/en-US/docs/Web/JavaScript/Reference/Global_Objects/Array) |"
   ]
  },
  {
   "cell_type": "markdown",
   "metadata": {},
   "source": [
    "## What are Lists?\n",
    "- Lists are a collection of data in a sequence that is an iterable\n",
    "- Each sequence is demarcated with an <mark>index</mark>, starting from 0. This is known as <mark>base 0 indexing</mark>\n",
    "- In memory, it is stored as a variable name with multiple pointers to each variable stored in a certain order\n",
    "- Lists can also be called arrays\n",
    "- Lists have methods that act upon the list and change them. This moves the pointers within RAM to change the parts of the list.\n",
    "\n",
    "**A MASSIVE NOTE: Lists methods *Mutate*, meaning they actively change the list, but they don't return anything. This means that return a None-type, which you cannot manipulate**"
   ]
  },
  {
   "cell_type": "markdown",
   "metadata": {},
   "source": [
    "### Adding Something to a List"
   ]
  },
  {
   "cell_type": "code",
   "execution_count": 1,
   "metadata": {},
   "outputs": [
    {
     "name": "stdout",
     "output_type": "stream",
     "text": [
      "Fruits before append: ['apple', 'banana', 'kiwi', 'pomegranate']\n",
      "Fruits after append: ['apple', 'banana', 'kiwi', 'pomegranate', 'dragonfruit']\n"
     ]
    }
   ],
   "source": [
    "fruits = [\"apple\", \"banana\", \"kiwi\", \"pomegranate\"]\n",
    "\n",
    "print(f\"Fruits before append: {fruits}\")\n",
    "\n",
    "fruits.append(\"dragonfruit\") # ADDS TO THE END OF THE LIST\n",
    "\n",
    "print(f\"Fruits after append: {fruits}\")"
   ]
  },
  {
   "cell_type": "code",
   "execution_count": 2,
   "metadata": {},
   "outputs": [
    {
     "name": "stdout",
     "output_type": "stream",
     "text": [
      "Fruits before append: ['apple', 'banana', 'kiwi', 'pomegranate', 'dragonfruit']\n",
      "Fruits after append: ['apple', 'banana', 'kiwi', 'pomegranate', 'dragonfruit', 'carrot', 'cucumber', 'eggplant']\n"
     ]
    }
   ],
   "source": [
    "food = [\"apple\", \"banana\", \"kiwi\", \"pomegranate\"]\n",
    "vegetables = [\"carrot\", \"cucumber\", \"eggplant\"]\n",
    "\n",
    "print(f\"Fruits before extend: {fruits}\")\n",
    "\n",
    "fruits.extend(vegetables) # adds the vegetable list to the end of the food list \n",
    "\n",
    "print(f\"Fruits after extend: {fruits}\")"
   ]
  },
  {
   "cell_type": "code",
   "execution_count": 3,
   "metadata": {},
   "outputs": [
    {
     "name": "stdout",
     "output_type": "stream",
     "text": [
      "Fruits before insert: ['apple', 'banana', 'kiwi', 'pomegranate']\n",
      "Fruits after insert: ['apple', 'dragonfruit', 'banana', 'kiwi', 'pomegranate']\n"
     ]
    }
   ],
   "source": [
    "fruits = [\"apple\", \"banana\", \"kiwi\", \"pomegranate\"]\n",
    "\n",
    "print(f\"Fruits before insert: {fruits}\")\n",
    "\n",
    "fruits.insert(1, \"dragonfruit\")\n",
    "\n",
    "print(f\"Fruits after insert: {fruits}\")"
   ]
  },
  {
   "cell_type": "markdown",
   "metadata": {},
   "source": [
    "### Removing Items"
   ]
  },
  {
   "cell_type": "code",
   "execution_count": 2,
   "metadata": {},
   "outputs": [
    {
     "name": "stdout",
     "output_type": "stream",
     "text": [
      "Fruits before insert: ['apple', 'banana', 'kiwi', 'pomegranate']\n",
      "Fruits after pop (no parameter): ['apple', 'banana', 'kiwi']\n",
      "Fruits after pop (specifying index 0): ['banana', 'kiwi']\n"
     ]
    }
   ],
   "source": [
    "fruits = [\"apple\", \"banana\", \"kiwi\", \"pomegranate\"]\n",
    "\n",
    "print(f\"Fruits before insert: {fruits}\")\n",
    "\n",
    "fruits.pop()\n",
    "\n",
    "print(f\"Fruits after pop (no parameter): {fruits}\")\n",
    "\n",
    "fruits.pop(0)\n",
    "\n",
    "print(f\"Fruits after pop (specifying index 0): {fruits}\")"
   ]
  },
  {
   "cell_type": "code",
   "execution_count": 2,
   "metadata": {},
   "outputs": [
    {
     "name": "stdout",
     "output_type": "stream",
     "text": [
      "Fruits before insert: ['apple', 'banana', 'kiwi', 'pomegranate']\n",
      "Fruits after remove (removing apple): ['banana', 'kiwi', 'pomegranate']\n",
      "Fruits after remove (removing kiwi): ['banana', 'pomegranate']\n",
      "[0, 2, 4, 6, 8]\n"
     ]
    }
   ],
   "source": [
    "fruits = [\"apple\", \"banana\", \"kiwi\", \"pomegranate\"]\n",
    "\n",
    "print(f\"Fruits before insert: {fruits}\")\n",
    "\n",
    "fruits.remove(\"apple\")\n",
    "\n",
    "print(f\"Fruits after remove (removing apple): {fruits}\")\n",
    "\n",
    "fruits.remove(\"kiwi\")\n",
    "\n",
    "print(f\"Fruits after remove (removing kiwi): {fruits}\")\n"
   ]
  },
  {
   "cell_type": "markdown",
   "metadata": {},
   "source": [
    "### Practice\n",
    "**Consider the Following Code Segment**\n",
    "\n",
    "```\n",
    "{\n",
    "    lst =  [\"your\", \"a\", \"very\", \"skilled\", \"individual\"]\n",
    "    lst.append(\"Person\")\n",
    "    lst.pop()\n",
    "    lst.remove(\"your\")\n",
    "    lst.insert(0, \"you're\")\n",
    "    print(lst)\n",
    "}\n",
    "```\n",
    "\n",
    "<details closed>\n",
    "<summary>Answer!</summary>\n",
    "[\"you're\", 'a', 'very', 'skilled', 'individual']\n",
    "</details>"
   ]
  },
  {
   "cell_type": "markdown",
   "metadata": {},
   "source": [
    "**In each instance, would we use a list?**\n",
    "We want to represent a sequence of children in order. <br>\n",
    "We want to represent the number of animals in a zoo. <br>\n",
    "We want to repeatedly find the derivative of a number. <br>\n",
    "We want to represent Key value pairs of schools and their quantities\n",
    "We want to represent the grades of a classroom <br>\n",
    "\n",
    "<details closed>\n",
    "<summary>Answer!</summary>\n",
    "1. Yes <br>\n",
    "2 No <br>\n",
    "3. No <br>\n",
    "4. No <br>\n",
    "5. Yes\n",
    "</details>\n"
   ]
  },
  {
   "cell_type": "markdown",
   "metadata": {},
   "source": [
    "**Consider the Following Code Segment**\n",
    "\n",
    "```\n",
    "{\n",
    "    \n",
    "lst = [12,3,4,5,14,6,1,234]\n",
    "\n",
    "lst.pop()\n",
    "lst.append('x')\n",
    "lst.insert(lst[0])\n",
    "\n",
    "print(lst.pop())\n",
    "\n",
    "}\n",
    "```\n",
    "\n",
    "<details closed>\n",
    "<summary>Answer!</summary>\n",
    ":P try and get it without checking the answer!\n",
    "</details>"
   ]
  },
  {
   "cell_type": "markdown",
   "metadata": {},
   "source": [
    "# Iterating Through a List and Sorting"
   ]
  },
  {
   "cell_type": "markdown",
   "metadata": {},
   "source": [
    "## What is Iteration?\n",
    "\n",
    "We can use `for` and `while` loops to iterate over loops! Then we can manipulate each element in the list for a certain purpose (adding, adding to another list, removing, etc.)\n",
    "<br>\n",
    "<br>\n",
    "However, recall that each list item is at an `index`, and we can't exceed the number of indices that an element has, otherwise we get a `IndexError: List out of range`"
   ]
  },
  {
   "cell_type": "markdown",
   "metadata": {},
   "source": [
    "# Examples\n",
    "### Sorting algorithms\n",
    "Insertion Sort:\n",
    "  - Takes in unsorted list with numerical elements and returns with numerical elements in order\n",
    "  - iterates through every element one at a time\n",
    "  - check if element before the selected element is greater than or less than the selected element and adjust accordingly\n",
    "  \n",
    "![]({{ site.baseurl }}/images/insertionsort.png)"
   ]
  },
  {
   "cell_type": "code",
   "execution_count": 6,
   "metadata": {},
   "outputs": [
    {
     "name": "stdout",
     "output_type": "stream",
     "text": [
      "[1, 2, 3, 5, 6, 7, 8, 9]\n"
     ]
    }
   ],
   "source": [
    "arr = [9,1,5,6,3,7,2,8]\n",
    "\n",
    "def insertion_sort(arr):\n",
    "    for index in range(1,len(arr)): # repeats through length of the array\n",
    "        value = arr[index]\n",
    "        i = index - 1\n",
    "        while i >= 0:\n",
    "            if value < arr[i]:\n",
    "                arr[i+1] = arr[i] # shift number in slot i to the right\n",
    "                arr[i] = value # shift value left into slot i\n",
    "                i = i - 1\n",
    "            else:\n",
    "                break\n",
    "\n",
    "IS = insertion_sort(arr)\n",
    "print(arr)"
   ]
  },
  {
   "cell_type": "markdown",
   "metadata": {},
   "source": [
    "# Hacks\n",
    "## Bubble sort\n",
    "  - similar to insertion sort, this algorithm takes an unsorted array and returns a sorted array\n",
    "  - unlike insertion sort where you iterate through the each element and move the smaller elements to the front, this algorithm starts at the beginning and swaps the position of every element in the array\n",
    "\n",
    "![]({{ site.baseurl }}/images/bubble_sort.png)"
   ]
  }
 ],
 "metadata": {
  "kernelspec": {
   "display_name": "Python 3.10.7 64-bit",
   "language": "python",
   "name": "python3"
  },
  "language_info": {
   "codemirror_mode": {
    "name": "ipython",
    "version": 3
   },
   "file_extension": ".py",
   "mimetype": "text/x-python",
   "name": "python",
   "nbconvert_exporter": "python",
   "pygments_lexer": "ipython3",
   "version": "3.10.7"
  },
  "orig_nbformat": 4,
  "vscode": {
   "interpreter": {
    "hash": "aee8b7b246df8f9039afb4144a1f6fd8d2ca17a180786b69acc140d282b71a49"
   }
  }
 },
 "nbformat": 4,
 "nbformat_minor": 2
}
