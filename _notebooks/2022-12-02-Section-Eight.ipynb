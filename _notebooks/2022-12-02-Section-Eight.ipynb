{
 "cells": [
  {
   "cell_type": "code",
   "execution_count": null,
   "metadata": {},
   "outputs": [],
   "source": []
  }
 ],
 "metadata": {
  "kernelspec": {
   "display_name": "Python 3.10.8 64-bit (windows store)",
   "language": "python",
   "name": "python3"
  },
  "language_info": {
   "name": "python",
   "version": "3.10.8"
  },
  "orig_nbformat": 4,
  "vscode": {
   "interpreter": {
<<<<<<< HEAD
    "hash": "1d2dc5dcf990aaa47f7fbd56bffb5f58fda4d3a3977db6fc2dd988cdc560c2e3"
=======
    "hash": "b0fa6594d8f4cbf19f97940f81e996739fb7646882a419484c72d19e05852a7e"
>>>>>>> 25937a4 (section 8)
   }
  }
 },
 "nbformat": 4,
 "nbformat_minor": 2
}
