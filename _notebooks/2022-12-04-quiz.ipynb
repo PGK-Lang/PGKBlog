{
 "cells": [
  {
   "cell_type": "code",
   "execution_count": 3,
   "metadata": {},
   "outputs": [
    {
     "ename": "TypeError",
     "evalue": "Question() takes no arguments",
     "output_type": "error",
     "traceback": [
      "\u001b[0;31m---------------------------------------------------------------------------\u001b[0m",
      "\u001b[0;31mTypeError\u001b[0m                                 Traceback (most recent call last)",
      "\u001b[1;32m/Users/advayshindikar/vscode/pgk/_notebooks/2022-12-04-quiz.ipynb Cell 1\u001b[0m in \u001b[0;36m<cell line: 17>\u001b[0;34m()\u001b[0m\n\u001b[1;32m      <a href='vscode-notebook-cell:/Users/advayshindikar/vscode/pgk/_notebooks/2022-12-04-quiz.ipynb#W1sZmlsZQ%3D%3D?line=3'>4</a>\u001b[0m         \u001b[39mself\u001b[39m\u001b[39m.\u001b[39manswer \u001b[39m=\u001b[39m answer\n\u001b[1;32m      <a href='vscode-notebook-cell:/Users/advayshindikar/vscode/pgk/_notebooks/2022-12-04-quiz.ipynb#W1sZmlsZQ%3D%3D?line=5'>6</a>\u001b[0m question_prompts \u001b[39m=\u001b[39m [\n\u001b[1;32m      <a href='vscode-notebook-cell:/Users/advayshindikar/vscode/pgk/_notebooks/2022-12-04-quiz.ipynb#W1sZmlsZQ%3D%3D?line=6'>7</a>\u001b[0m     \u001b[39m\"\u001b[39m\u001b[39mWhat is Iteration defined as?\u001b[39m\u001b[39m\\n\u001b[39;00m\u001b[39m(a) Sequence of instructions\u001b[39m\u001b[39m\\n\u001b[39;00m\u001b[39m(b) Repetition of a process\u001b[39m\u001b[39m\\n\u001b[39;00m\u001b[39m(c) Boolean\u001b[39m\u001b[39m\\n\u001b[39;00m\u001b[39m(d) List\u001b[39m\u001b[39m\"\u001b[39m,\n\u001b[1;32m      <a href='vscode-notebook-cell:/Users/advayshindikar/vscode/pgk/_notebooks/2022-12-04-quiz.ipynb#W1sZmlsZQ%3D%3D?line=7'>8</a>\u001b[0m     \u001b[39m\"\u001b[39m\u001b[39mWhat is a List defined as?\u001b[39m\u001b[39m\\n\u001b[39;00m\u001b[39m(a) Collection of data in a sequence that is a iterable\u001b[39m\u001b[39m\\n\u001b[39;00m\u001b[39m(b) Numbers\u001b[39m\u001b[39m\\n\u001b[39;00m\u001b[39m(c) Selection between two paths based on solution\u001b[39m\u001b[39m\\n\u001b[39;00m\u001b[39m(d) Groceries\u001b[39m\u001b[39m\"\u001b[39m,\n\u001b[0;32m   (...)\u001b[0m\n\u001b[1;32m     <a href='vscode-notebook-cell:/Users/advayshindikar/vscode/pgk/_notebooks/2022-12-04-quiz.ipynb#W1sZmlsZQ%3D%3D?line=12'>13</a>\u001b[0m     \u001b[39m\"\u001b[39m\u001b[39mWhat is Base 0 Indexing?/n(a) Binary\u001b[39m\u001b[39m\\n\u001b[39;00m\u001b[39m(b) Mutation\u001b[39m\u001b[39m\\n\u001b[39;00m\u001b[39m(c) Sequence demarcated with an Index starting from 1\u001b[39m\u001b[39m\\n\u001b[39;00m\u001b[39m(d) Seguence demarcated with an Index starting from 0\u001b[39m\u001b[39m\"\u001b[39m\n\u001b[1;32m     <a href='vscode-notebook-cell:/Users/advayshindikar/vscode/pgk/_notebooks/2022-12-04-quiz.ipynb#W1sZmlsZQ%3D%3D?line=13'>14</a>\u001b[0m ]\n\u001b[1;32m     <a href='vscode-notebook-cell:/Users/advayshindikar/vscode/pgk/_notebooks/2022-12-04-quiz.ipynb#W1sZmlsZQ%3D%3D?line=15'>16</a>\u001b[0m questions \u001b[39m=\u001b[39m [\n\u001b[0;32m---> <a href='vscode-notebook-cell:/Users/advayshindikar/vscode/pgk/_notebooks/2022-12-04-quiz.ipynb#W1sZmlsZQ%3D%3D?line=16'>17</a>\u001b[0m     Question(question_prompts[\u001b[39m0\u001b[39;49m], \u001b[39m\"\u001b[39;49m\u001b[39mb\u001b[39;49m\u001b[39m\"\u001b[39;49m),\n\u001b[1;32m     <a href='vscode-notebook-cell:/Users/advayshindikar/vscode/pgk/_notebooks/2022-12-04-quiz.ipynb#W1sZmlsZQ%3D%3D?line=17'>18</a>\u001b[0m     Question(question_prompts[\u001b[39m1\u001b[39m], \u001b[39m\"\u001b[39m\u001b[39ma\u001b[39m\u001b[39m\"\u001b[39m),\n\u001b[1;32m     <a href='vscode-notebook-cell:/Users/advayshindikar/vscode/pgk/_notebooks/2022-12-04-quiz.ipynb#W1sZmlsZQ%3D%3D?line=18'>19</a>\u001b[0m     Question(question_prompts[\u001b[39m2\u001b[39m], \u001b[39m\"\u001b[39m\u001b[39ma\u001b[39m\u001b[39m\"\u001b[39m),\n\u001b[1;32m     <a href='vscode-notebook-cell:/Users/advayshindikar/vscode/pgk/_notebooks/2022-12-04-quiz.ipynb#W1sZmlsZQ%3D%3D?line=19'>20</a>\u001b[0m     Question(question_prompts[\u001b[39m3\u001b[39m], \u001b[39m\"\u001b[39m\u001b[39mc\u001b[39m\u001b[39m\"\u001b[39m),\n\u001b[1;32m     <a href='vscode-notebook-cell:/Users/advayshindikar/vscode/pgk/_notebooks/2022-12-04-quiz.ipynb#W1sZmlsZQ%3D%3D?line=20'>21</a>\u001b[0m     Question(question_prompts[\u001b[39m4\u001b[39m], \u001b[39m\"\u001b[39m\u001b[39md\u001b[39m\u001b[39m\"\u001b[39m),\n\u001b[1;32m     <a href='vscode-notebook-cell:/Users/advayshindikar/vscode/pgk/_notebooks/2022-12-04-quiz.ipynb#W1sZmlsZQ%3D%3D?line=21'>22</a>\u001b[0m     Question(question_prompts[\u001b[39m5\u001b[39m], \u001b[39m\"\u001b[39m\u001b[39md\u001b[39m\u001b[39m\"\u001b[39m),\n\u001b[1;32m     <a href='vscode-notebook-cell:/Users/advayshindikar/vscode/pgk/_notebooks/2022-12-04-quiz.ipynb#W1sZmlsZQ%3D%3D?line=22'>23</a>\u001b[0m     Question(question_prompts[\u001b[39m6\u001b[39m], \u001b[39m\"\u001b[39m\u001b[39md\u001b[39m\u001b[39m\"\u001b[39m)\n\u001b[1;32m     <a href='vscode-notebook-cell:/Users/advayshindikar/vscode/pgk/_notebooks/2022-12-04-quiz.ipynb#W1sZmlsZQ%3D%3D?line=23'>24</a>\u001b[0m ]\n\u001b[1;32m     <a href='vscode-notebook-cell:/Users/advayshindikar/vscode/pgk/_notebooks/2022-12-04-quiz.ipynb#W1sZmlsZQ%3D%3D?line=25'>26</a>\u001b[0m \u001b[39mdef\u001b[39;00m \u001b[39mrun_test\u001b[39m(questions):\n\u001b[1;32m     <a href='vscode-notebook-cell:/Users/advayshindikar/vscode/pgk/_notebooks/2022-12-04-quiz.ipynb#W1sZmlsZQ%3D%3D?line=26'>27</a>\u001b[0m     score \u001b[39m=\u001b[39m \u001b[39m0\u001b[39m\n",
      "\u001b[0;31mTypeError\u001b[0m: Question() takes no arguments"
     ]
    }
   ],
   "source": [
    "class Question:\n",
    "    def _init_(self, prompt, answer):\n",
    "        self.prompt = prompt\n",
    "        self.answer = answer\n",
    "\n",
    "question_prompts = [\n",
    "    \"What is Iteration defined as?\\n(a) Sequence of instructions\\n(b) Repetition of a process\\n(c) Boolean\\n(d) List\",\n",
    "    \"What is a List defined as?\\n(a) Collection of data in a sequence that is a iterable\\n(b) Numbers\\n(c) Selection between two paths based on solution\\n(d) Groceries\",\n",
    "    \"What does a “FOR LOOP” do? What is the variable, “I”, used for?\\n(a) FOR LOOP repeats a function for a set number of times; I is the number of times repeated\\n(b) I is a parameter of the function, and for only performs an action if certain circumstances are met\\n(c) The FOR LOOP is a function and I the absolute value of the function\\n(d) The FOR LOOP controls the order functions are called on outside of the for loop; I is the number of functions it controls\",\n",
    "    \"How can we add something to the end of a list?\\n(a) Use + sign\\n(b) The word Add\\n(c) Append\\n(d) Extend\",\n",
    "    \"What is Indexing / List Index defined as?\\n(a) Contents of List\\n(b) The position of an element in a list, starting from 0\\n(c) Alphabetical Ordered List\\n(d) Measurement of List\",\n",
    "    \"What does the POP command do?\\n(a) Removes a list\\n(b) Adds a list\\n(c) Adds to the end of List\\n(d) Removes the last item from a list\",\n",
    "    \"What is Base 0 Indexing?/n(a) Binary\\n(b) Mutation\\n(c) Sequence demarcated with an Index starting from 1\\n(d) Seguence demarcated with an Index starting from 0\"\n",
    "]\n",
    "\n",
    "questions = [\n",
    "    Question(question_prompts[0], \"b\"),\n",
    "    Question(question_prompts[1], \"a\"),\n",
    "    Question(question_prompts[2], \"a\"),\n",
    "    Question(question_prompts[3], \"c\"),\n",
    "    Question(question_prompts[4], \"d\"),\n",
    "    Question(question_prompts[5], \"d\"),\n",
    "    Question(question_prompts[6], \"d\")\n",
    "]\n",
    "\n",
    "def run_test(questions):\n",
    "    score = 0\n",
    "    for question in questions:\n",
    "        answer = input(question.prompts)\n",
    "        if answer == question.answer:\n",
    "            score += 1\n",
    "    print(\"You got \" +str(score) +'/' + str(len(questions)) + \"correct\")\n",
    "\n",
    "run_quiz(questions)"
   ]
  }
 ],
 "metadata": {
  "kernelspec": {
   "display_name": "Python 3.9.12 ('base')",
   "language": "python",
   "name": "python3"
  },
  "language_info": {
   "codemirror_mode": {
    "name": "ipython",
    "version": 3
   },
   "file_extension": ".py",
   "mimetype": "text/x-python",
   "name": "python",
   "nbconvert_exporter": "python",
   "pygments_lexer": "ipython3",
   "version": "3.9.12"
  },
  "orig_nbformat": 4,
  "vscode": {
   "interpreter": {
    "hash": "9e0221e54b57df3dfb83a7d361cc714196174ed68351e934d847ddcd947b393c"
   }
  }
 },
 "nbformat": 4,
 "nbformat_minor": 2
}
