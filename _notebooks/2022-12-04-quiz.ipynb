{
 "cells": [
  {
   "cell_type": "code",
   "execution_count": 5,
   "metadata": {},
   "outputs": [
    {
     "ename": "AttributeError",
     "evalue": "'Question' object has no attribute 'prompt'",
     "output_type": "error",
     "traceback": [
      "\u001b[0;31m---------------------------------------------------------------------------\u001b[0m",
      "\u001b[0;31mAttributeError\u001b[0m                            Traceback (most recent call last)",
      "\u001b[0;32m/var/folders/md/vy2b4l3s2_jbdhsbgvnhq33m0000gq/T/ipykernel_29321/1212541729.py\u001b[0m in \u001b[0;36m<module>\u001b[0;34m\u001b[0m\n\u001b[1;32m     14\u001b[0m ]\n\u001b[1;32m     15\u001b[0m \u001b[0mq\u001b[0m \u001b[0;34m=\u001b[0m \u001b[0mQuestion\u001b[0m\u001b[0;34m(\u001b[0m\u001b[0;34m)\u001b[0m\u001b[0;34m\u001b[0m\u001b[0;34m\u001b[0m\u001b[0m\n\u001b[0;32m---> 16\u001b[0;31m \u001b[0mprint\u001b[0m\u001b[0;34m(\u001b[0m\u001b[0mq\u001b[0m\u001b[0;34m.\u001b[0m\u001b[0mprompt\u001b[0m\u001b[0;34m)\u001b[0m\u001b[0;34m\u001b[0m\u001b[0;34m\u001b[0m\u001b[0m\n\u001b[0m\u001b[1;32m     17\u001b[0m \u001b[0;34m\u001b[0m\u001b[0m\n\u001b[1;32m     18\u001b[0m questions = [\n",
      "\u001b[0;31mAttributeError\u001b[0m: 'Question' object has no attribute 'prompt'"
     ]
    }
   ],
   "source": [
    "class Question:\n",
    "    def _init_(self, prompt, answer):\n",
    "        self.prompt = prompt\n",
    "        self.answer = answer\n",
    "\n",
    "question_prompts =[\n",
    "    \"What is Iteration defined as?\\n(a) Sequence of instructions\\n(b) Repetition of a process\\n(c) Boolean\\n(d) List\",\n",
    "    \"What is a List defined as?\\n(a) Collection of data in a sequence that is a iterable\\n(b) Numbers\\n(c) Selection between two paths based on solution\\n(d) Groceries\",\n",
    "    \"What does a “FOR LOOP” do? What is the variable, “I”, used for?\\n(a) FOR LOOP repeats a function for a set number of times; I is the number of times repeated\\n(b) I is a parameter of the function, and for only performs an action if certain circumstances are met\\n(c) The FOR LOOP is a function and I the absolute value of the function\\n(d) The FOR LOOP controls the order functions are called on outside of the for loop; I is the number of functions it controls\",\n",
    "    \"How can we add something to the end of a list?\\n(a) Use + sign\\n(b) The word Add\\n(c) Append\\n(d) Extend\",\n",
    "    \"What is Indexing / List Index defined as?\\n(a) Contents of List\\n(b) The position of an element in a list, starting from 0\\n(c) Alphabetical Ordered List\\n(d) Measurement of List\",\n",
    "    \"What does the POP command do?\\n(a) Removes a list\\n(b) Adds a list\\n(c) Adds to the end of List\\n(d) Removes the last item from a list\",\n",
    "    \"What is Base 0 Indexing?/n(a) Binary\\n(b) Mutation\\n(c) Sequence demarcated with an Index starting from 1\\n(d) Seguence demarcated with an Index starting from 0\"\n",
    "]\n",
    "\n",
    "questions = [\n",
    "    Question(question_prompts[0], \"b\"),\n",
    "    Question(question_prompts[1], \"a\"),\n",
    "    Question(question_prompts[2], \"a\"),\n",
    "    Question(question_prompts[3], \"c\"),\n",
    "    Question(question_prompts[4], \"d\"),\n",
    "    Question(question_prompts[5], \"d\"),\n",
    "    Question(question_prompts[6], \"d\")\n",
    "]\n",
    "\n",
    "def run_test(questions):\n",
    "    score = 0\n",
    "    for question in questions:\n",
    "        answer = input(question.prompts)\n",
    "        if answer == question.answer:\n",
    "            score += 1\n",
    "    print(\"You got \" +str(score) +'/' + str(len(questions)) + \"correct\")\n",
    "\n",
    "run_test(questions)"
   ]
  }
 ],
 "metadata": {
  "kernelspec": {
   "display_name": "Python 3.9.12 ('base')",
   "language": "python",
   "name": "python3"
  },
  "language_info": {
   "codemirror_mode": {
    "name": "ipython",
    "version": 3
   },
   "file_extension": ".py",
   "mimetype": "text/x-python",
   "name": "python",
   "nbconvert_exporter": "python",
   "pygments_lexer": "ipython3",
   "version": "3.9.12"
  },
  "orig_nbformat": 4,
  "vscode": {
   "interpreter": {
    "hash": "c7c94c0aed833a2414877ef23593eac2030861692aa72c9bb6e8e4336db6fc0c"
   }
  }
 },
 "nbformat": 4,
 "nbformat_minor": 2
}
